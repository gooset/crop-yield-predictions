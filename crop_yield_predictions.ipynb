{
  "cells": [
    {
      "cell_type": "code",
      "execution_count": null,
      "metadata": {
        "id": "eNNcYC81OYY2"
      },
      "outputs": [],
      "source": [
        "import requests\n",
        "import pandas as pd\n",
        "from zipfile import ZipFile"
      ]
    },
    {
      "cell_type": "markdown",
      "metadata": {
        "heading_collapsed": true,
        "id": "WQialnU-OYY4"
      },
      "source": [
        "# Download the Datasets"
      ]
    },
    {
      "cell_type": "markdown",
      "metadata": {
        "heading_collapsed": true,
        "hidden": true,
        "id": "wFp_1CE-OYY7"
      },
      "source": [
        "## FAO Data (Crop Yield, Fertilizer and Pesticide Use, and Temperature Change)"
      ]
    },
    {
      "cell_type": "markdown",
      "metadata": {
        "heading_collapsed": true,
        "hidden": true,
        "id": "8Z31MdBGOYY8"
      },
      "source": [
        "### Requests"
      ]
    },
    {
      "cell_type": "code",
      "execution_count": null,
      "metadata": {
        "hidden": true,
        "id": "oP7_sWGEOYY-"
      },
      "outputs": [],
      "source": [
        "#URL of the data\n",
        "fao_url = 'http://fenixservices.fao.org/faostat/static/bulkdownloads/datasets_E.json'"
      ]
    },
    {
      "cell_type": "code",
      "execution_count": null,
      "metadata": {
        "hidden": true,
        "id": "g2e2_7zgOYY_"
      },
      "outputs": [],
      "source": [
        "#GET request and put the response in a variable\n",
        "response = requests.get(fao_url)\n",
        "\n",
        "#Variable to hold the json object returned from the request\n",
        "data = response.json()"
      ]
    },
    {
      "cell_type": "code",
      "execution_count": null,
      "metadata": {
        "hidden": true,
        "id": "xvoIBqseOYZB",
        "outputId": "04707d3f-2cf8-444d-8aaa-e87cf137d93c",
        "scrolled": true
      },
      "outputs": [
        {
          "name": "stdout",
          "output_type": "stream",
          "text": [
            "0. Discontinued archives and data series: ASTI-Expenditures\n",
            "1. Discontinued archives and data series: ASTI-Researchers\n",
            "2. Food Balance: Commodity Balances (non-food)\n",
            "3. Investment: Country Investment Statistics Profile\n",
            "4. Prices: Consumer Price Indices\n",
            "5. Macro-Economic Indicators: Capital Stock\n",
            "6. Investment: Development Flows to Agriculture\n",
            "7. Land, Inputs and Sustainability: Fertilizers indicators\n",
            "8. Climate Change: Emissions intensities\n",
            "9. Land, Inputs and Sustainability: Livestock Patterns\n",
            "10. Land, Inputs and Sustainability: Land use indicators\n",
            "11. Climate Change: Emissions shares\n",
            "12. Land, Inputs and Sustainability: Livestock Manure\n",
            "13. Land, Inputs and Sustainability: Pesticides indicators\n",
            "14. Land, Inputs and Sustainability: Soil nutrient budget\n",
            "15. Climate Change: Temperature change\n",
            "16. Discontinued archives and data series: Food Aid Shipments (WFP)\n",
            "17. Food Balance: Food Balances (2014-)\n",
            "18. Food Balance: Food Balances (-2013, old methodology and population)\n",
            "19. Investment: Foreign Direct Investment (FDI)\n",
            "20. Forestry: Forestry Production and Trade\n",
            "21. Food Security and Nutrition: Suite of Food Security Indicators\n",
            "22. Forestry: Forestry Trade Flows\n",
            "23. Climate Change: Crop Residues\n",
            "24. Climate Change: Burning - Crop Residues\n",
            "25. Climate Change: Enteric Fermentation\n",
            "26. Climate Change: Forests\n",
            "27. Climate Change: Fires\n",
            "28. Climate Change: Manure Management\n",
            "29. Climate Change: Energy Use\n",
            "30. Climate Change: Manure left on Pasture\n",
            "31. Climate Change: Rice Cultivation\n",
            "32. Climate Change: Emissions Totals\n",
            "33. Climate Change: Manure applied to Soils\n",
            "34. Climate Change: Drained organic soils\n",
            "35. Climate Change: Synthetic Fertilizers\n",
            "36. Discontinued archives and data series: Indicators from Household Surveys (gender, area, socioeconomics)\n",
            "37. Investment: Credit to Agriculture\n",
            "38. Investment: Government Expenditure\n",
            "39. Land, Inputs and Sustainability: Land Cover\n",
            "40. Macro-Economic Indicators: Macro Indicators\n",
            "41. Population and Employment: Annual population\n",
            "42. Population and Employment: Employment Indicators\n",
            "43. Discontinued archives and data series: Producer Prices (old series)\n",
            "44. Prices: Deflators\n",
            "45. Prices: Exchange rates - Annual\n",
            "46. Prices: Producer Prices\n",
            "47. Production: Crops and livestock products\n",
            "48. Production: Production Indices\n",
            "49. Production: Value of Agricultural Production\n",
            "50. Discontinued archives and data series: Fertilizers archive\n",
            "51. Land, Inputs and Sustainability: Fertilizers by Product\n",
            "52. Land, Inputs and Sustainability: Fertilizers by Nutrient\n",
            "53. Land, Inputs and Sustainability: Land Use\n",
            "54. Discontinued archives and data series: Machinery\n",
            "55. Land, Inputs and Sustainability: Pesticides Use\n",
            "56. Land, Inputs and Sustainability: Pesticides Trade\n",
            "57. Discontinued archives and data series: Machinery Archive\n",
            "58. Food Balance: Supply Utilization Accounts\n",
            "59. Trade: Crops and livestock products\n",
            "60. Trade: Trade Indices\n",
            "61. Trade: Detailed trade matrix\n"
          ]
        }
      ],
      "source": [
        "for x in range(len(data['Datasets']['Dataset'])):\n",
        "    print(\"{}. {}\".format(x, data['Datasets']['Dataset'][x]['DatasetName']))"
      ]
    },
    {
      "cell_type": "markdown",
      "metadata": {
        "heading_collapsed": true,
        "hidden": true,
        "id": "_APCAkamOYZC"
      },
      "source": [
        "### Crop Yield"
      ]
    },
    {
      "cell_type": "code",
      "execution_count": null,
      "metadata": {
        "hidden": true,
        "id": "jqqq8a1KOYZD",
        "outputId": "4d4019f8-050d-48f0-d985-fd04a55a90a4"
      },
      "outputs": [
        {
          "data": {
            "text/plain": [
              "'http://fenixservices.fao.org/faostat/static/bulkdownloads/Production_Crops_Livestock_E_All_Data_(Normalized).zip'"
            ]
          },
          "execution_count": 5,
          "metadata": {},
          "output_type": "execute_result"
        }
      ],
      "source": [
        "#obtain crop yield file location\n",
        "crop_yield = data['Datasets']['Dataset'][47]['FileLocation']\n",
        "crop_yield"
      ]
    },
    {
      "cell_type": "code",
      "execution_count": null,
      "metadata": {
        "hidden": true,
        "id": "HQQPs0OVOYZG",
        "outputId": "ae4c43f9-8517-4c16-bbd9-27329f0d6139"
      },
      "outputs": [
        {
          "name": "stdout",
          "output_type": "stream",
          "text": [
            "File Name                                             Modified             Size\n",
            "Production_Crops_Livestock_E_All_Data_(Normalized).csv 2021-12-15 16:40:18    404974887\n",
            "Production_Crops_Livestock_E_Flags.csv         2021-12-15 17:17:54          245\n",
            "Production_Crops_Livestock_E_ItemCodes.csv     2021-12-15 17:19:24         8675\n"
          ]
        },
        {
          "data": {
            "text/html": [
              "<div>\n",
              "<style scoped>\n",
              "    .dataframe tbody tr th:only-of-type {\n",
              "        vertical-align: middle;\n",
              "    }\n",
              "\n",
              "    .dataframe tbody tr th {\n",
              "        vertical-align: top;\n",
              "    }\n",
              "\n",
              "    .dataframe thead th {\n",
              "        text-align: right;\n",
              "    }\n",
              "</style>\n",
              "<table border=\"1\" class=\"dataframe\">\n",
              "  <thead>\n",
              "    <tr style=\"text-align: right;\">\n",
              "      <th></th>\n",
              "      <th>Area Code</th>\n",
              "      <th>Area</th>\n",
              "      <th>Item Code</th>\n",
              "      <th>Item</th>\n",
              "      <th>Element Code</th>\n",
              "      <th>Element</th>\n",
              "      <th>Year Code</th>\n",
              "      <th>Year</th>\n",
              "      <th>Unit</th>\n",
              "      <th>Value</th>\n",
              "      <th>Flag</th>\n",
              "    </tr>\n",
              "  </thead>\n",
              "  <tbody>\n",
              "    <tr>\n",
              "      <th>0</th>\n",
              "      <td>2</td>\n",
              "      <td>Afghanistan</td>\n",
              "      <td>221</td>\n",
              "      <td>Almonds, with shell</td>\n",
              "      <td>5312</td>\n",
              "      <td>Area harvested</td>\n",
              "      <td>1975</td>\n",
              "      <td>1975</td>\n",
              "      <td>ha</td>\n",
              "      <td>0.0</td>\n",
              "      <td>F</td>\n",
              "    </tr>\n",
              "    <tr>\n",
              "      <th>1</th>\n",
              "      <td>2</td>\n",
              "      <td>Afghanistan</td>\n",
              "      <td>221</td>\n",
              "      <td>Almonds, with shell</td>\n",
              "      <td>5312</td>\n",
              "      <td>Area harvested</td>\n",
              "      <td>1976</td>\n",
              "      <td>1976</td>\n",
              "      <td>ha</td>\n",
              "      <td>5900.0</td>\n",
              "      <td>F</td>\n",
              "    </tr>\n",
              "    <tr>\n",
              "      <th>2</th>\n",
              "      <td>2</td>\n",
              "      <td>Afghanistan</td>\n",
              "      <td>221</td>\n",
              "      <td>Almonds, with shell</td>\n",
              "      <td>5312</td>\n",
              "      <td>Area harvested</td>\n",
              "      <td>1977</td>\n",
              "      <td>1977</td>\n",
              "      <td>ha</td>\n",
              "      <td>6000.0</td>\n",
              "      <td>F</td>\n",
              "    </tr>\n",
              "    <tr>\n",
              "      <th>3</th>\n",
              "      <td>2</td>\n",
              "      <td>Afghanistan</td>\n",
              "      <td>221</td>\n",
              "      <td>Almonds, with shell</td>\n",
              "      <td>5312</td>\n",
              "      <td>Area harvested</td>\n",
              "      <td>1978</td>\n",
              "      <td>1978</td>\n",
              "      <td>ha</td>\n",
              "      <td>6000.0</td>\n",
              "      <td>F</td>\n",
              "    </tr>\n",
              "    <tr>\n",
              "      <th>4</th>\n",
              "      <td>2</td>\n",
              "      <td>Afghanistan</td>\n",
              "      <td>221</td>\n",
              "      <td>Almonds, with shell</td>\n",
              "      <td>5312</td>\n",
              "      <td>Area harvested</td>\n",
              "      <td>1979</td>\n",
              "      <td>1979</td>\n",
              "      <td>ha</td>\n",
              "      <td>6000.0</td>\n",
              "      <td>F</td>\n",
              "    </tr>\n",
              "  </tbody>\n",
              "</table>\n",
              "</div>"
            ],
            "text/plain": [
              "   Area Code         Area  Item Code  ... Unit   Value Flag\n",
              "0          2  Afghanistan        221  ...   ha     0.0    F\n",
              "1          2  Afghanistan        221  ...   ha  5900.0    F\n",
              "2          2  Afghanistan        221  ...   ha  6000.0    F\n",
              "3          2  Afghanistan        221  ...   ha  6000.0    F\n",
              "4          2  Afghanistan        221  ...   ha  6000.0    F\n",
              "\n",
              "[5 rows x 11 columns]"
            ]
          },
          "execution_count": 6,
          "metadata": {},
          "output_type": "execute_result"
        }
      ],
      "source": [
        "#request the zip file\n",
        "yield_response = requests.get(crop_yield, stream=True)\n",
        "\n",
        "#obtain the filename from the URL\n",
        "local_file_name = crop_yield.split(\"/\")[-1]\n",
        "\n",
        "#downloading the data to the local project folder\n",
        "with open(local_file_name, 'wb') as fd:\n",
        "    for chunk in yield_response.iter_content(chunk_size=128):\n",
        "        fd.write(chunk)\n",
        "\n",
        "#create a zipfile object from downloaded zip above and extract the contents to local project folder\n",
        "with ZipFile(local_file_name, 'r') as zipObj:\n",
        "    zipObj.printdir()\n",
        "    zipObj.extractall()\n",
        "\n",
        "#read the unzipped file into a dataframe\n",
        "df_yield = pd.read_csv(local_file_name.split(\".\")[0] +\".csv\", encoding = 'latin1')\n",
        "df_yield.head()"
      ]
    },
    {
      "cell_type": "markdown",
      "metadata": {
        "heading_collapsed": true,
        "hidden": true,
        "id": "w5pa5oFuOYZI"
      },
      "source": [
        "### Fertilizer and Pesticide Use"
      ]
    },
    {
      "cell_type": "code",
      "execution_count": null,
      "metadata": {
        "hidden": true,
        "id": "r-1HMM3bOYZK",
        "outputId": "92b2ccb7-f499-4115-8d5b-19448d9fb5ad"
      },
      "outputs": [
        {
          "data": {
            "text/plain": [
              "'http://fenixservices.fao.org/faostat/static/bulkdownloads/Environment_Fertilizers_E_All_Data_(Normalized).zip'"
            ]
          },
          "execution_count": 7,
          "metadata": {},
          "output_type": "execute_result"
        }
      ],
      "source": [
        "#obtain pesticide/fertilizer data\n",
        "pest = data['Datasets']['Dataset'][7]['FileLocation']\n",
        "pest"
      ]
    },
    {
      "cell_type": "code",
      "execution_count": null,
      "metadata": {
        "hidden": true,
        "id": "fLzE5p4cOYZL",
        "outputId": "db3dbeed-8c0e-4acd-b74a-a3d8a3efc8bd"
      },
      "outputs": [
        {
          "name": "stdout",
          "output_type": "stream",
          "text": [
            "File Name                                             Modified             Size\n",
            "Environment_Fertilizers_E_All_Data_(Normalized).csv 2021-06-07 11:27:28      4044654\n",
            "Environment_Fertilizers_E_Flags.csv            2021-06-07 11:29:32           38\n"
          ]
        },
        {
          "data": {
            "text/html": [
              "<div>\n",
              "<style scoped>\n",
              "    .dataframe tbody tr th:only-of-type {\n",
              "        vertical-align: middle;\n",
              "    }\n",
              "\n",
              "    .dataframe tbody tr th {\n",
              "        vertical-align: top;\n",
              "    }\n",
              "\n",
              "    .dataframe thead th {\n",
              "        text-align: right;\n",
              "    }\n",
              "</style>\n",
              "<table border=\"1\" class=\"dataframe\">\n",
              "  <thead>\n",
              "    <tr style=\"text-align: right;\">\n",
              "      <th></th>\n",
              "      <th>Area Code</th>\n",
              "      <th>Area</th>\n",
              "      <th>Item Code</th>\n",
              "      <th>Item</th>\n",
              "      <th>Element Code</th>\n",
              "      <th>Element</th>\n",
              "      <th>Year Code</th>\n",
              "      <th>Year</th>\n",
              "      <th>Unit</th>\n",
              "      <th>Value</th>\n",
              "      <th>Flag</th>\n",
              "    </tr>\n",
              "  </thead>\n",
              "  <tbody>\n",
              "    <tr>\n",
              "      <th>0</th>\n",
              "      <td>2</td>\n",
              "      <td>Afghanistan</td>\n",
              "      <td>3102</td>\n",
              "      <td>Nutrient nitrogen N (total)</td>\n",
              "      <td>5159</td>\n",
              "      <td>Use per area of cropland</td>\n",
              "      <td>1961</td>\n",
              "      <td>1961</td>\n",
              "      <td>kg/ha</td>\n",
              "      <td>0.13</td>\n",
              "      <td>Fc</td>\n",
              "    </tr>\n",
              "    <tr>\n",
              "      <th>1</th>\n",
              "      <td>2</td>\n",
              "      <td>Afghanistan</td>\n",
              "      <td>3102</td>\n",
              "      <td>Nutrient nitrogen N (total)</td>\n",
              "      <td>5159</td>\n",
              "      <td>Use per area of cropland</td>\n",
              "      <td>1962</td>\n",
              "      <td>1962</td>\n",
              "      <td>kg/ha</td>\n",
              "      <td>0.13</td>\n",
              "      <td>Fc</td>\n",
              "    </tr>\n",
              "    <tr>\n",
              "      <th>2</th>\n",
              "      <td>2</td>\n",
              "      <td>Afghanistan</td>\n",
              "      <td>3102</td>\n",
              "      <td>Nutrient nitrogen N (total)</td>\n",
              "      <td>5159</td>\n",
              "      <td>Use per area of cropland</td>\n",
              "      <td>1963</td>\n",
              "      <td>1963</td>\n",
              "      <td>kg/ha</td>\n",
              "      <td>0.13</td>\n",
              "      <td>Fc</td>\n",
              "    </tr>\n",
              "    <tr>\n",
              "      <th>3</th>\n",
              "      <td>2</td>\n",
              "      <td>Afghanistan</td>\n",
              "      <td>3102</td>\n",
              "      <td>Nutrient nitrogen N (total)</td>\n",
              "      <td>5159</td>\n",
              "      <td>Use per area of cropland</td>\n",
              "      <td>1964</td>\n",
              "      <td>1964</td>\n",
              "      <td>kg/ha</td>\n",
              "      <td>0.13</td>\n",
              "      <td>Fc</td>\n",
              "    </tr>\n",
              "    <tr>\n",
              "      <th>4</th>\n",
              "      <td>2</td>\n",
              "      <td>Afghanistan</td>\n",
              "      <td>3102</td>\n",
              "      <td>Nutrient nitrogen N (total)</td>\n",
              "      <td>5159</td>\n",
              "      <td>Use per area of cropland</td>\n",
              "      <td>1965</td>\n",
              "      <td>1965</td>\n",
              "      <td>kg/ha</td>\n",
              "      <td>0.13</td>\n",
              "      <td>Fc</td>\n",
              "    </tr>\n",
              "  </tbody>\n",
              "</table>\n",
              "</div>"
            ],
            "text/plain": [
              "   Area Code         Area  Item Code  ...   Unit  Value Flag\n",
              "0          2  Afghanistan       3102  ...  kg/ha   0.13   Fc\n",
              "1          2  Afghanistan       3102  ...  kg/ha   0.13   Fc\n",
              "2          2  Afghanistan       3102  ...  kg/ha   0.13   Fc\n",
              "3          2  Afghanistan       3102  ...  kg/ha   0.13   Fc\n",
              "4          2  Afghanistan       3102  ...  kg/ha   0.13   Fc\n",
              "\n",
              "[5 rows x 11 columns]"
            ]
          },
          "execution_count": 8,
          "metadata": {},
          "output_type": "execute_result"
        }
      ],
      "source": [
        "#request the zip file\n",
        "pest_response = requests.get(pest, stream=True)\n",
        "\n",
        "#obtain the filename from the URL\n",
        "local_file_name = pest.split(\"/\")[-1]\n",
        "\n",
        "#downloading the data to the local project folder\n",
        "with open(local_file_name, 'wb') as fd:\n",
        "    for chunk in pest_response.iter_content(chunk_size=128):\n",
        "        fd.write(chunk)\n",
        "\n",
        "#create a zipfile object from downloaded zip above and extract the contents to local project folder\n",
        "with ZipFile(local_file_name, 'r') as zipObj:\n",
        "    zipObj.printdir()\n",
        "    zipObj.extractall()\n",
        "\n",
        "#read the unzipped file into a dataframe\n",
        "df_pest = pd.read_csv(local_file_name.split(\".\")[0] +\".csv\" , encoding = 'latin1')\n",
        "df_pest.head()"
      ]
    },
    {
      "cell_type": "markdown",
      "metadata": {
        "heading_collapsed": true,
        "hidden": true,
        "id": "23hJlpShOYZM"
      },
      "source": [
        "### Temperature Change"
      ]
    },
    {
      "cell_type": "code",
      "execution_count": null,
      "metadata": {
        "hidden": true,
        "id": "_YpArGBDOYZM",
        "outputId": "509c694a-142a-4a28-9bea-467e9d05bfc2"
      },
      "outputs": [
        {
          "data": {
            "text/plain": [
              "'http://fenixservices.fao.org/faostat/static/bulkdownloads/Environment_Temperature_change_E_All_Data_(Normalized).zip'"
            ]
          },
          "execution_count": 9,
          "metadata": {},
          "output_type": "execute_result"
        }
      ],
      "source": [
        "#obtain temperature change data\n",
        "temp = data['Datasets']['Dataset'][15]['FileLocation']\n",
        "temp"
      ]
    },
    {
      "cell_type": "code",
      "execution_count": null,
      "metadata": {
        "hidden": true,
        "id": "9_K03Va_OYZN",
        "outputId": "aff941ce-17e8-4a23-b167-2d901e650f20"
      },
      "outputs": [
        {
          "name": "stdout",
          "output_type": "stream",
          "text": [
            "File Name                                             Modified             Size\n",
            "Environment_Temperature_change_E_All_Data_(Normalized).csv 2021-02-09 17:09:22     54884327\n",
            "Environment_Temperature_change_E_Flags.csv     2021-02-09 17:53:44           80\n"
          ]
        },
        {
          "data": {
            "text/html": [
              "<div>\n",
              "<style scoped>\n",
              "    .dataframe tbody tr th:only-of-type {\n",
              "        vertical-align: middle;\n",
              "    }\n",
              "\n",
              "    .dataframe tbody tr th {\n",
              "        vertical-align: top;\n",
              "    }\n",
              "\n",
              "    .dataframe thead th {\n",
              "        text-align: right;\n",
              "    }\n",
              "</style>\n",
              "<table border=\"1\" class=\"dataframe\">\n",
              "  <thead>\n",
              "    <tr style=\"text-align: right;\">\n",
              "      <th></th>\n",
              "      <th>Area Code</th>\n",
              "      <th>Area</th>\n",
              "      <th>Months Code</th>\n",
              "      <th>Months</th>\n",
              "      <th>Element Code</th>\n",
              "      <th>Element</th>\n",
              "      <th>Year Code</th>\n",
              "      <th>Year</th>\n",
              "      <th>Unit</th>\n",
              "      <th>Value</th>\n",
              "      <th>Flag</th>\n",
              "    </tr>\n",
              "  </thead>\n",
              "  <tbody>\n",
              "    <tr>\n",
              "      <th>0</th>\n",
              "      <td>2</td>\n",
              "      <td>Afghanistan</td>\n",
              "      <td>7001</td>\n",
              "      <td>January</td>\n",
              "      <td>7271</td>\n",
              "      <td>Temperature change</td>\n",
              "      <td>1961</td>\n",
              "      <td>1961</td>\n",
              "      <td>°C</td>\n",
              "      <td>0.746</td>\n",
              "      <td>Fc</td>\n",
              "    </tr>\n",
              "    <tr>\n",
              "      <th>1</th>\n",
              "      <td>2</td>\n",
              "      <td>Afghanistan</td>\n",
              "      <td>7001</td>\n",
              "      <td>January</td>\n",
              "      <td>7271</td>\n",
              "      <td>Temperature change</td>\n",
              "      <td>1962</td>\n",
              "      <td>1962</td>\n",
              "      <td>°C</td>\n",
              "      <td>0.009</td>\n",
              "      <td>Fc</td>\n",
              "    </tr>\n",
              "    <tr>\n",
              "      <th>2</th>\n",
              "      <td>2</td>\n",
              "      <td>Afghanistan</td>\n",
              "      <td>7001</td>\n",
              "      <td>January</td>\n",
              "      <td>7271</td>\n",
              "      <td>Temperature change</td>\n",
              "      <td>1963</td>\n",
              "      <td>1963</td>\n",
              "      <td>°C</td>\n",
              "      <td>2.695</td>\n",
              "      <td>Fc</td>\n",
              "    </tr>\n",
              "    <tr>\n",
              "      <th>3</th>\n",
              "      <td>2</td>\n",
              "      <td>Afghanistan</td>\n",
              "      <td>7001</td>\n",
              "      <td>January</td>\n",
              "      <td>7271</td>\n",
              "      <td>Temperature change</td>\n",
              "      <td>1964</td>\n",
              "      <td>1964</td>\n",
              "      <td>°C</td>\n",
              "      <td>-5.277</td>\n",
              "      <td>Fc</td>\n",
              "    </tr>\n",
              "    <tr>\n",
              "      <th>4</th>\n",
              "      <td>2</td>\n",
              "      <td>Afghanistan</td>\n",
              "      <td>7001</td>\n",
              "      <td>January</td>\n",
              "      <td>7271</td>\n",
              "      <td>Temperature change</td>\n",
              "      <td>1965</td>\n",
              "      <td>1965</td>\n",
              "      <td>°C</td>\n",
              "      <td>1.827</td>\n",
              "      <td>Fc</td>\n",
              "    </tr>\n",
              "  </tbody>\n",
              "</table>\n",
              "</div>"
            ],
            "text/plain": [
              "   Area Code         Area  Months Code   Months  ...  Year Unit  Value  Flag\n",
              "0          2  Afghanistan         7001  January  ...  1961   °C  0.746    Fc\n",
              "1          2  Afghanistan         7001  January  ...  1962   °C  0.009    Fc\n",
              "2          2  Afghanistan         7001  January  ...  1963   °C  2.695    Fc\n",
              "3          2  Afghanistan         7001  January  ...  1964   °C -5.277    Fc\n",
              "4          2  Afghanistan         7001  January  ...  1965   °C  1.827    Fc\n",
              "\n",
              "[5 rows x 11 columns]"
            ]
          },
          "execution_count": 10,
          "metadata": {},
          "output_type": "execute_result"
        }
      ],
      "source": [
        "#request the zip file\n",
        "temp_response = requests.get(temp, stream=True)\n",
        "\n",
        "#obtain the filename from the URL\n",
        "local_file_name = temp.split(\"/\")[-1]\n",
        "\n",
        "#downloading the data to the local project folder\n",
        "with open(local_file_name, 'wb') as fd:\n",
        "    for chunk in temp_response.iter_content(chunk_size=128):\n",
        "        fd.write(chunk)\n",
        "\n",
        "#create a zipfile object from downloaded zip above and extract the contents to local project folder\n",
        "with ZipFile(local_file_name, 'r') as zipObj:\n",
        "    zipObj.printdir()\n",
        "    zipObj.extractall()\n",
        "\n",
        "#read the unzipped file into a dataframe\n",
        "df_temp = pd.read_csv(local_file_name.split(\".\")[0] +\".csv\", encoding = 'latin1')\n",
        "df_temp.head()"
      ]
    },
    {
      "cell_type": "markdown",
      "metadata": {
        "heading_collapsed": true,
        "hidden": true,
        "id": "dWQiW1VKOYZP"
      },
      "source": [
        "## World Bank Data (Population, Rainfall, and Agriculture Land)"
      ]
    },
    {
      "cell_type": "code",
      "execution_count": null,
      "metadata": {
        "hidden": true,
        "id": "0SqlMHxOOYZQ"
      },
      "outputs": [],
      "source": [
        "import world_bank_data as wb"
      ]
    },
    {
      "cell_type": "code",
      "execution_count": null,
      "metadata": {
        "hidden": true,
        "id": "W_F748UxOYZQ",
        "outputId": "504a6c6f-758a-473a-e97e-8bcec9070469"
      },
      "outputs": [
        {
          "data": {
            "text/html": [
              "<div>\n",
              "<style scoped>\n",
              "    .dataframe tbody tr th:only-of-type {\n",
              "        vertical-align: middle;\n",
              "    }\n",
              "\n",
              "    .dataframe tbody tr th {\n",
              "        vertical-align: top;\n",
              "    }\n",
              "\n",
              "    .dataframe thead th {\n",
              "        text-align: right;\n",
              "    }\n",
              "</style>\n",
              "<table border=\"1\" class=\"dataframe\">\n",
              "  <thead>\n",
              "    <tr style=\"text-align: right;\">\n",
              "      <th></th>\n",
              "      <th></th>\n",
              "      <th>population</th>\n",
              "    </tr>\n",
              "    <tr>\n",
              "      <th>Country</th>\n",
              "      <th>Year</th>\n",
              "      <th></th>\n",
              "    </tr>\n",
              "  </thead>\n",
              "  <tbody>\n",
              "    <tr>\n",
              "      <th rowspan=\"5\" valign=\"top\">AFE</th>\n",
              "      <th>1960</th>\n",
              "      <td>130836765.0</td>\n",
              "    </tr>\n",
              "    <tr>\n",
              "      <th>1961</th>\n",
              "      <td>134159786.0</td>\n",
              "    </tr>\n",
              "    <tr>\n",
              "      <th>1962</th>\n",
              "      <td>137614644.0</td>\n",
              "    </tr>\n",
              "    <tr>\n",
              "      <th>1963</th>\n",
              "      <td>141202036.0</td>\n",
              "    </tr>\n",
              "    <tr>\n",
              "      <th>1964</th>\n",
              "      <td>144920186.0</td>\n",
              "    </tr>\n",
              "  </tbody>\n",
              "</table>\n",
              "</div>"
            ],
            "text/plain": [
              "               population\n",
              "Country Year             \n",
              "AFE     1960  130836765.0\n",
              "        1961  134159786.0\n",
              "        1962  137614644.0\n",
              "        1963  141202036.0\n",
              "        1964  144920186.0"
            ]
          },
          "execution_count": 12,
          "metadata": {},
          "output_type": "execute_result"
        }
      ],
      "source": [
        "#grab population data\n",
        "population = wb.get_series('SP.POP.TOTL', id_or_value='id', simplify_index=True)\n",
        "\n",
        "#turn series into dataframe that will be used to collect the rest of the world bank data\n",
        "df_wb = population.to_frame()\n",
        "\n",
        "#change column name\n",
        "df_wb = df_wb.rename(columns={'SP.POP.TOTL':'population'})\n",
        "\n",
        "df_wb.head()"
      ]
    },
    {
      "cell_type": "code",
      "execution_count": null,
      "metadata": {
        "hidden": true,
        "id": "dTwYhS0-OYZR"
      },
      "outputs": [],
      "source": [
        "#raindall data\n",
        "perc = wb.get_series('AG.LND.PRCP.MM', id_or_value='id', simplify_index=True)\n",
        "\n",
        "#add rainfall series data to the df_wb data frame under the name raindall(mm/year)\n",
        "df_wb['rainfall(mm/year)'] = perc"
      ]
    },
    {
      "cell_type": "code",
      "execution_count": null,
      "metadata": {
        "hidden": true,
        "id": "H_9clkKGOYZR"
      },
      "outputs": [],
      "source": [
        "#agricultural land\n",
        "agland = wb.get_series('AG.LND.AGRI.K2', id_or_value='id', simplify_index=True)\n",
        "\n",
        "#add agland series data to the df_wb data frame under the name agland(sq/km)\n",
        "df_wb['agland(sq/km)'] = agland"
      ]
    },
    {
      "cell_type": "markdown",
      "metadata": {
        "heading_collapsed": true,
        "id": "w9RaJxDIOYZS"
      },
      "source": [
        "# Transform and combine the datasets"
      ]
    },
    {
      "cell_type": "markdown",
      "metadata": {
        "heading_collapsed": true,
        "hidden": true,
        "id": "okOkbudWOYZS"
      },
      "source": [
        "## FAO Data (Crop Yield, Fertilizer and Pesticide Use, and Temperature Change)"
      ]
    },
    {
      "cell_type": "markdown",
      "metadata": {
        "heading_collapsed": true,
        "hidden": true,
        "id": "a8Pp4_txOYZS"
      },
      "source": [
        "### Crop Yield"
      ]
    },
    {
      "cell_type": "code",
      "execution_count": null,
      "metadata": {
        "hidden": true,
        "id": "GP9vzMyVOYZS"
      },
      "outputs": [],
      "source": [
        "#reduce the crop yield dataframe to only include certain crops\n",
        "df_yield = df_yield.loc[df_yield[\"Item\"].isin(['Rice, paddy', 'Potatoes', 'Yams', 'Soybeans',\n",
        "                                               'Wheat', 'Maize', 'Sorghum', 'Cassava'])]\n",
        "\n",
        "#remove unnecessary columns\n",
        "df_yield = df_yield.drop(['Area Code', 'Item Code', 'Element Code', 'Year Code', 'Flag', 'Element', 'Unit'], axis=1)\n",
        "\n",
        "#rename the column holding the yield values\n",
        "df_yield.rename(columns={'Value':'yield(tonnes)'}, inplace=True)"
      ]
    },
    {
      "cell_type": "markdown",
      "metadata": {
        "heading_collapsed": true,
        "hidden": true,
        "id": "WCl6blXKOYZT"
      },
      "source": [
        "### Fertilizer and Pesticide Use"
      ]
    },
    {
      "cell_type": "code",
      "execution_count": null,
      "metadata": {
        "hidden": true,
        "id": "TxaGYozKOYZa"
      },
      "outputs": [],
      "source": [
        "#remove unnecessary columns\n",
        "df_pest = df_pest.drop(['Area Code', 'Item Code', 'Element Code', 'Year Code', 'Flag', 'Element', 'Unit'], axis=1)\n",
        "\n",
        "#find the total amount of pesticides and fertilizers used each year\n",
        "df_pest = df_pest.groupby(['Area', 'Year']).agg({'Value':'sum'})\n",
        "\n",
        "#reset the index after summation above\n",
        "df_pest.reset_index(inplace=True)\n",
        "\n",
        "#rename the column holding the total amount used each year\n",
        "df_pest.rename(columns={'Value':'pestUse(kg/ha)'}, inplace=True)"
      ]
    },
    {
      "cell_type": "markdown",
      "metadata": {
        "heading_collapsed": true,
        "hidden": true,
        "id": "0QdbLQAZOYZb"
      },
      "source": [
        "### Temperature Change"
      ]
    },
    {
      "cell_type": "code",
      "execution_count": null,
      "metadata": {
        "hidden": true,
        "id": "WISX8RDrOYZb"
      },
      "outputs": [],
      "source": [
        "#remove unnecessary columns\n",
        "df_temp = df_temp.drop(['Area Code', 'Element Code', 'Year Code', 'Flag', 'Element', 'Unit'], axis=1)\n",
        "\n",
        "#find the total temperature change by year and then average that number\n",
        "df_temp = df_temp.groupby(['Area', 'Year']).agg({'Value':'sum'})\n",
        "df_temp['Value'] = df_temp['Value']/12\n",
        "\n",
        "#reset the index after averaging above\n",
        "df_temp.reset_index(inplace=True)\n",
        "\n",
        "#rename the column holding the average amount changed each year\n",
        "df_temp.rename(columns={'Value':'tempChange(C)'}, inplace=True)"
      ]
    },
    {
      "cell_type": "markdown",
      "metadata": {
        "heading_collapsed": true,
        "hidden": true,
        "id": "OP60VKZOOYZb"
      },
      "source": [
        "### Combine the FAO Data"
      ]
    },
    {
      "cell_type": "code",
      "execution_count": null,
      "metadata": {
        "hidden": true,
        "id": "p_H_7iHvOYZb",
        "outputId": "72448fd7-efb5-4ac7-b578-43b78a4bbc99"
      },
      "outputs": [
        {
          "data": {
            "text/html": [
              "<div>\n",
              "<style scoped>\n",
              "    .dataframe tbody tr th:only-of-type {\n",
              "        vertical-align: middle;\n",
              "    }\n",
              "\n",
              "    .dataframe tbody tr th {\n",
              "        vertical-align: top;\n",
              "    }\n",
              "\n",
              "    .dataframe thead th {\n",
              "        text-align: right;\n",
              "    }\n",
              "</style>\n",
              "<table border=\"1\" class=\"dataframe\">\n",
              "  <thead>\n",
              "    <tr style=\"text-align: right;\">\n",
              "      <th></th>\n",
              "      <th>Area</th>\n",
              "      <th>Year</th>\n",
              "      <th>tempChange(C)</th>\n",
              "      <th>pestUse(kg/ha)</th>\n",
              "      <th>Item</th>\n",
              "      <th>yield(tonnes)</th>\n",
              "    </tr>\n",
              "  </thead>\n",
              "  <tbody>\n",
              "    <tr>\n",
              "      <th>0</th>\n",
              "      <td>Afghanistan</td>\n",
              "      <td>1961</td>\n",
              "      <td>1.659750</td>\n",
              "      <td>0.14</td>\n",
              "      <td>Maize</td>\n",
              "      <td>500000.0</td>\n",
              "    </tr>\n",
              "    <tr>\n",
              "      <th>1</th>\n",
              "      <td>Afghanistan</td>\n",
              "      <td>1962</td>\n",
              "      <td>1.332000</td>\n",
              "      <td>0.14</td>\n",
              "      <td>Maize</td>\n",
              "      <td>500000.0</td>\n",
              "    </tr>\n",
              "    <tr>\n",
              "      <th>2</th>\n",
              "      <td>Afghanistan</td>\n",
              "      <td>1963</td>\n",
              "      <td>2.886083</td>\n",
              "      <td>0.14</td>\n",
              "      <td>Maize</td>\n",
              "      <td>500000.0</td>\n",
              "    </tr>\n",
              "    <tr>\n",
              "      <th>3</th>\n",
              "      <td>Afghanistan</td>\n",
              "      <td>1964</td>\n",
              "      <td>0.326083</td>\n",
              "      <td>0.14</td>\n",
              "      <td>Maize</td>\n",
              "      <td>505000.0</td>\n",
              "    </tr>\n",
              "    <tr>\n",
              "      <th>4</th>\n",
              "      <td>Afghanistan</td>\n",
              "      <td>1965</td>\n",
              "      <td>1.539583</td>\n",
              "      <td>0.14</td>\n",
              "      <td>Maize</td>\n",
              "      <td>500000.0</td>\n",
              "    </tr>\n",
              "  </tbody>\n",
              "</table>\n",
              "</div>"
            ],
            "text/plain": [
              "          Area  Year  tempChange(C)  pestUse(kg/ha)   Item  yield(tonnes)\n",
              "0  Afghanistan  1961       1.659750            0.14  Maize       500000.0\n",
              "1  Afghanistan  1962       1.332000            0.14  Maize       500000.0\n",
              "2  Afghanistan  1963       2.886083            0.14  Maize       500000.0\n",
              "3  Afghanistan  1964       0.326083            0.14  Maize       505000.0\n",
              "4  Afghanistan  1965       1.539583            0.14  Maize       500000.0"
            ]
          },
          "execution_count": 18,
          "metadata": {},
          "output_type": "execute_result"
        }
      ],
      "source": [
        "#merge temperature change and pesticide/fertilizer use\n",
        "df_fao = pd.merge(df_temp, df_pest, left_on=['Area', 'Year'], right_on=['Area', 'Year'], how='outer')\n",
        "\n",
        "#merge the crop yield data to the newly merged data fram above\n",
        "df_fao = pd.merge(df_fao, df_yield, how='right', on=['Area', 'Year'])\n",
        "\n",
        "df_fao.head()"
      ]
    },
    {
      "cell_type": "markdown",
      "metadata": {
        "heading_collapsed": true,
        "hidden": true,
        "id": "Ss_TY_YtOYZc"
      },
      "source": [
        "## World Bank Data (Population, Rainfall, and Agriculture Land)"
      ]
    },
    {
      "cell_type": "code",
      "execution_count": null,
      "metadata": {
        "hidden": true,
        "id": "hjIB-kIFOYZc",
        "outputId": "3350ea6b-6060-4f74-fd3b-ad968082f452"
      },
      "outputs": [
        {
          "data": {
            "text/html": [
              "<div>\n",
              "<style scoped>\n",
              "    .dataframe tbody tr th:only-of-type {\n",
              "        vertical-align: middle;\n",
              "    }\n",
              "\n",
              "    .dataframe tbody tr th {\n",
              "        vertical-align: top;\n",
              "    }\n",
              "\n",
              "    .dataframe thead th {\n",
              "        text-align: right;\n",
              "    }\n",
              "</style>\n",
              "<table border=\"1\" class=\"dataframe\">\n",
              "  <thead>\n",
              "    <tr style=\"text-align: right;\">\n",
              "      <th></th>\n",
              "      <th>id</th>\n",
              "      <th>name</th>\n",
              "    </tr>\n",
              "  </thead>\n",
              "  <tbody>\n",
              "    <tr>\n",
              "      <th>0</th>\n",
              "      <td>ABW</td>\n",
              "      <td>Aruba</td>\n",
              "    </tr>\n",
              "    <tr>\n",
              "      <th>1</th>\n",
              "      <td>AFG</td>\n",
              "      <td>Afghanistan</td>\n",
              "    </tr>\n",
              "    <tr>\n",
              "      <th>2</th>\n",
              "      <td>AGO</td>\n",
              "      <td>Angola</td>\n",
              "    </tr>\n",
              "    <tr>\n",
              "      <th>3</th>\n",
              "      <td>ALB</td>\n",
              "      <td>Albania</td>\n",
              "    </tr>\n",
              "    <tr>\n",
              "      <th>4</th>\n",
              "      <td>AND</td>\n",
              "      <td>Andorra</td>\n",
              "    </tr>\n",
              "  </tbody>\n",
              "</table>\n",
              "</div>"
            ],
            "text/plain": [
              "    id         name\n",
              "0  ABW        Aruba\n",
              "1  AFG  Afghanistan\n",
              "2  AGO       Angola\n",
              "3  ALB      Albania\n",
              "4  AND      Andorra"
            ]
          },
          "execution_count": 19,
          "metadata": {},
          "output_type": "execute_result"
        }
      ],
      "source": [
        "#receive a dataframe with all the countries names and the ids\n",
        "countries = wb.get_countries()\n",
        "\n",
        "#only show countries not regions\n",
        "df_key = countries.loc[countries.region != 'Aggregates']\n",
        "\n",
        "#reset the index\n",
        "df_key.reset_index(inplace=True)\n",
        "\n",
        "#only keep two columns\n",
        "df_key = df_key.loc[:,['id', 'name']]\n",
        "\n",
        "df_key.head()"
      ]
    },
    {
      "cell_type": "code",
      "execution_count": null,
      "metadata": {
        "hidden": true,
        "id": "6yh64vTUOYZd"
      },
      "outputs": [],
      "source": [
        "#add in the country name along with the id\n",
        "df_wb.reset_index(inplace=True)\n",
        "df_wb = pd.merge(df_wb, df_key, left_on='Country', right_on='id')\n",
        "\n",
        "#remove unnecessary columns\n",
        "df_wb = df_wb.drop(['Country', 'id'], axis=1)"
      ]
    },
    {
      "cell_type": "markdown",
      "metadata": {
        "heading_collapsed": true,
        "hidden": true,
        "id": "ABbBs3qFOYZd"
      },
      "source": [
        "## Combine FAO and World Bank"
      ]
    },
    {
      "cell_type": "code",
      "execution_count": null,
      "metadata": {
        "hidden": true,
        "id": "Hfhze4DwOYZd"
      },
      "outputs": [],
      "source": [
        "#make sure the columns that will be merged upon are the same data type\n",
        "df_wb['name'] = df_wb['name'].astype(str)\n",
        "df_wb['Year'] = df_wb['Year'].astype(str)\n",
        "df_fao['Area'] = df_fao['Area'].astype(str)\n",
        "df_fao['Year'] = df_fao['Year'].astype(str)"
      ]
    },
    {
      "cell_type": "code",
      "execution_count": null,
      "metadata": {
        "hidden": true,
        "id": "iCcaF5k5OYZe"
      },
      "outputs": [],
      "source": [
        "# lets see if there are any differences between country names before merging\n",
        "fao_list = df_fao['Area'].unique()\n",
        "wb_list = df_wb['name'].unique()\n",
        "both_list = [x for x in fao_list if x in wb_list]"
      ]
    },
    {
      "cell_type": "code",
      "execution_count": null,
      "metadata": {
        "hidden": true,
        "id": "LTalQqkFOYZe"
      },
      "outputs": [],
      "source": [
        "#only allow countries in the list above to be merged\n",
        "df_wb = df_wb.loc[df_wb['name'].isin(both_list)]\n",
        "df_fao = df_fao.loc[df_fao['Area'].isin(both_list)]"
      ]
    },
    {
      "cell_type": "code",
      "execution_count": null,
      "metadata": {
        "hidden": true,
        "id": "Gbc2rmyBOYZe"
      },
      "outputs": [],
      "source": [
        "#final merge\n",
        "df_master = pd.merge(df_wb, df_fao, left_on=['name', 'Year'], right_on=['Area', 'Year'], how='outer')\n",
        "\n",
        "#remove any rows that have no yield, this is important for the machine learning model\n",
        "df_master = df_master.loc[df_master['yield(tonnes)'].notna()]"
      ]
    },
    {
      "cell_type": "code",
      "execution_count": null,
      "metadata": {
        "hidden": true,
        "id": "yY7TlfHrOYZf",
        "outputId": "04714e80-22d8-4cdd-ec7b-9fc0271e0d09"
      },
      "outputs": [
        {
          "data": {
            "text/html": [
              "<div>\n",
              "<style scoped>\n",
              "    .dataframe tbody tr th:only-of-type {\n",
              "        vertical-align: middle;\n",
              "    }\n",
              "\n",
              "    .dataframe tbody tr th {\n",
              "        vertical-align: top;\n",
              "    }\n",
              "\n",
              "    .dataframe thead th {\n",
              "        text-align: right;\n",
              "    }\n",
              "</style>\n",
              "<table border=\"1\" class=\"dataframe\">\n",
              "  <thead>\n",
              "    <tr style=\"text-align: right;\">\n",
              "      <th></th>\n",
              "      <th>Year</th>\n",
              "      <th>population</th>\n",
              "      <th>rainfall(mm/year)</th>\n",
              "      <th>agland(sq/km)</th>\n",
              "      <th>name</th>\n",
              "      <th>Area</th>\n",
              "      <th>tempChange(C)</th>\n",
              "      <th>pestUse(kg/ha)</th>\n",
              "      <th>Item</th>\n",
              "      <th>yield(tonnes)</th>\n",
              "    </tr>\n",
              "  </thead>\n",
              "  <tbody>\n",
              "    <tr>\n",
              "      <th>1</th>\n",
              "      <td>1961</td>\n",
              "      <td>9169406.0</td>\n",
              "      <td>NaN</td>\n",
              "      <td>377000.0</td>\n",
              "      <td>Afghanistan</td>\n",
              "      <td>Afghanistan</td>\n",
              "      <td>1.659750</td>\n",
              "      <td>0.14</td>\n",
              "      <td>Maize</td>\n",
              "      <td>500000.0</td>\n",
              "    </tr>\n",
              "    <tr>\n",
              "      <th>2</th>\n",
              "      <td>1961</td>\n",
              "      <td>9169406.0</td>\n",
              "      <td>NaN</td>\n",
              "      <td>377000.0</td>\n",
              "      <td>Afghanistan</td>\n",
              "      <td>Afghanistan</td>\n",
              "      <td>1.659750</td>\n",
              "      <td>0.14</td>\n",
              "      <td>Maize</td>\n",
              "      <td>14000.0</td>\n",
              "    </tr>\n",
              "    <tr>\n",
              "      <th>3</th>\n",
              "      <td>1961</td>\n",
              "      <td>9169406.0</td>\n",
              "      <td>NaN</td>\n",
              "      <td>377000.0</td>\n",
              "      <td>Afghanistan</td>\n",
              "      <td>Afghanistan</td>\n",
              "      <td>1.659750</td>\n",
              "      <td>0.14</td>\n",
              "      <td>Maize</td>\n",
              "      <td>700000.0</td>\n",
              "    </tr>\n",
              "    <tr>\n",
              "      <th>4</th>\n",
              "      <td>1961</td>\n",
              "      <td>9169406.0</td>\n",
              "      <td>NaN</td>\n",
              "      <td>377000.0</td>\n",
              "      <td>Afghanistan</td>\n",
              "      <td>Afghanistan</td>\n",
              "      <td>1.659750</td>\n",
              "      <td>0.14</td>\n",
              "      <td>Potatoes</td>\n",
              "      <td>15000.0</td>\n",
              "    </tr>\n",
              "    <tr>\n",
              "      <th>5</th>\n",
              "      <td>1961</td>\n",
              "      <td>9169406.0</td>\n",
              "      <td>NaN</td>\n",
              "      <td>377000.0</td>\n",
              "      <td>Afghanistan</td>\n",
              "      <td>Afghanistan</td>\n",
              "      <td>1.659750</td>\n",
              "      <td>0.14</td>\n",
              "      <td>Potatoes</td>\n",
              "      <td>86667.0</td>\n",
              "    </tr>\n",
              "    <tr>\n",
              "      <th>...</th>\n",
              "      <td>...</td>\n",
              "      <td>...</td>\n",
              "      <td>...</td>\n",
              "      <td>...</td>\n",
              "      <td>...</td>\n",
              "      <td>...</td>\n",
              "      <td>...</td>\n",
              "      <td>...</td>\n",
              "      <td>...</td>\n",
              "      <td>...</td>\n",
              "    </tr>\n",
              "    <tr>\n",
              "      <th>128112</th>\n",
              "      <td>2020</td>\n",
              "      <td>14862927.0</td>\n",
              "      <td>NaN</td>\n",
              "      <td>NaN</td>\n",
              "      <td>Zimbabwe</td>\n",
              "      <td>Zimbabwe</td>\n",
              "      <td>1.916833</td>\n",
              "      <td>NaN</td>\n",
              "      <td>Soybeans</td>\n",
              "      <td>18147.0</td>\n",
              "    </tr>\n",
              "    <tr>\n",
              "      <th>128113</th>\n",
              "      <td>2020</td>\n",
              "      <td>14862927.0</td>\n",
              "      <td>NaN</td>\n",
              "      <td>NaN</td>\n",
              "      <td>Zimbabwe</td>\n",
              "      <td>Zimbabwe</td>\n",
              "      <td>1.916833</td>\n",
              "      <td>NaN</td>\n",
              "      <td>Soybeans</td>\n",
              "      <td>59656.0</td>\n",
              "    </tr>\n",
              "    <tr>\n",
              "      <th>128114</th>\n",
              "      <td>2020</td>\n",
              "      <td>14862927.0</td>\n",
              "      <td>NaN</td>\n",
              "      <td>NaN</td>\n",
              "      <td>Zimbabwe</td>\n",
              "      <td>Zimbabwe</td>\n",
              "      <td>1.916833</td>\n",
              "      <td>NaN</td>\n",
              "      <td>Wheat</td>\n",
              "      <td>82068.0</td>\n",
              "    </tr>\n",
              "    <tr>\n",
              "      <th>128115</th>\n",
              "      <td>2020</td>\n",
              "      <td>14862927.0</td>\n",
              "      <td>NaN</td>\n",
              "      <td>NaN</td>\n",
              "      <td>Zimbabwe</td>\n",
              "      <td>Zimbabwe</td>\n",
              "      <td>1.916833</td>\n",
              "      <td>NaN</td>\n",
              "      <td>Wheat</td>\n",
              "      <td>18278.0</td>\n",
              "    </tr>\n",
              "    <tr>\n",
              "      <th>128116</th>\n",
              "      <td>2020</td>\n",
              "      <td>14862927.0</td>\n",
              "      <td>NaN</td>\n",
              "      <td>NaN</td>\n",
              "      <td>Zimbabwe</td>\n",
              "      <td>Zimbabwe</td>\n",
              "      <td>1.916833</td>\n",
              "      <td>NaN</td>\n",
              "      <td>Wheat</td>\n",
              "      <td>150000.0</td>\n",
              "    </tr>\n",
              "  </tbody>\n",
              "</table>\n",
              "<p>123687 rows × 10 columns</p>\n",
              "</div>"
            ],
            "text/plain": [
              "        Year  population  ...      Item  yield(tonnes)\n",
              "1       1961   9169406.0  ...     Maize       500000.0\n",
              "2       1961   9169406.0  ...     Maize        14000.0\n",
              "3       1961   9169406.0  ...     Maize       700000.0\n",
              "4       1961   9169406.0  ...  Potatoes        15000.0\n",
              "5       1961   9169406.0  ...  Potatoes        86667.0\n",
              "...      ...         ...  ...       ...            ...\n",
              "128112  2020  14862927.0  ...  Soybeans        18147.0\n",
              "128113  2020  14862927.0  ...  Soybeans        59656.0\n",
              "128114  2020  14862927.0  ...     Wheat        82068.0\n",
              "128115  2020  14862927.0  ...     Wheat        18278.0\n",
              "128116  2020  14862927.0  ...     Wheat       150000.0\n",
              "\n",
              "[123687 rows x 10 columns]"
            ]
          },
          "execution_count": 25,
          "metadata": {},
          "output_type": "execute_result"
        }
      ],
      "source": [
        "df_master"
      ]
    },
    {
      "cell_type": "markdown",
      "metadata": {
        "id": "HC0OQPBXOYZf"
      },
      "source": [
        "# Search download, combine, test, and load into ArcGIS Online"
      ]
    },
    {
      "cell_type": "markdown",
      "metadata": {
        "id": "XxDvJJGGOYZg"
      },
      "source": [
        "## ArcGIS Online download, combine, and upload"
      ]
    },
    {
      "cell_type": "code",
      "execution_count": null,
      "metadata": {
        "id": "2qd4SpW_OYZg",
        "outputId": "f3fa4f5a-6d5f-4fdc-f2f5-3420b80e3982"
      },
      "outputs": [
        {
          "name": "stderr",
          "output_type": "stream",
          "text": [
            "PROJ: proj_create_from_database: Cannot find proj.db\n"
          ]
        }
      ],
      "source": [
        "from arcgis.gis import GIS\n",
        "from arcgis.features import GeoAccessor"
      ]
    },
    {
      "cell_type": "code",
      "execution_count": null,
      "metadata": {
        "id": "vgb-aw3HOYZg"
      },
      "outputs": [],
      "source": [
        "#anonymous login to ArcGIS Online for a wide reaching search\n",
        "gis_search = GIS()\n",
        "\n",
        "#uses your ArcGIS Pro login information to connect to ArcGIS Online for download purposes\n",
        "gis = GIS('pro')"
      ]
    },
    {
      "cell_type": "code",
      "execution_count": null,
      "metadata": {
        "id": "RLuKvYJgOYZh",
        "outputId": "68ae63e4-f2af-4d2b-f76d-30b6f05777ad"
      },
      "outputs": [
        {
          "data": {
            "text/html": [
              "<div class=\"item_container\" style=\"height: auto; overflow: hidden; border: 1px solid #cfcfcf; border-radius: 2px; background: #f6fafa; line-height: 1.21429em; padding: 10px;\">\n",
              "                    <div class=\"item_left\" style=\"width: 210px; float: left;\">\n",
              "                       <a href='https://www.arcgis.com/home/item.html?id=2b93b06dc0dc4e809d3c8db5cb96ba69' target='_blank'>\n",
              "                        <img src='https://www.arcgis.com/sharing/rest//content/items/2b93b06dc0dc4e809d3c8db5cb96ba69/info/thumbnail/thumbnail1582666746934.jpeg' class=\"itemThumbnail\">\n",
              "                       </a>\n",
              "                    </div>\n",
              "\n",
              "                    <div class=\"item_right\"     style=\"float: none; width: auto; overflow: hidden;\">\n",
              "                        <a href='https://www.arcgis.com/home/item.html?id=2b93b06dc0dc4e809d3c8db5cb96ba69' target='_blank'><b>World Countries (Generalized)</b>\n",
              "                        </a>\n",
              "                        <br/>World Countries (Generalized) provides optimized country boundaries with useful name and country code attribute fields.  Current to November 2019.<img src='https://www.arcgis.com/home/js/jsapi/esri/css/images/item_type_icons/featureshosted16.png' style=\"vertical-align:middle;\">Feature Layer Collection by esri_dm\n",
              "                        <br/>Last Modified: October 12, 2021\n",
              "                        <br/>0 comments, 36,835,874 views\n",
              "                    </div>\n",
              "                </div>\n",
              "                "
            ],
            "text/plain": [
              "<Item title:\"World Countries (Generalized)\" type:Feature Layer Collection owner:esri_dm>"
            ]
          },
          "execution_count": 28,
          "metadata": {},
          "output_type": "execute_result"
        }
      ],
      "source": [
        "#search gis\n",
        "items = gis_search.content.search(query='title:World Countries(Generalized)', item_type='Feature Layer')\n",
        "\n",
        "#return the first result\n",
        "items[0]"
      ]
    },
    {
      "cell_type": "code",
      "execution_count": null,
      "metadata": {
        "id": "FtISiyhEOYZh"
      },
      "outputs": [],
      "source": [
        "#access this item via the id\n",
        "world_get = gis.content.get(items[0].id)\n",
        "\n",
        "#export the item with the name world as a shapfile\n",
        "world_export = world_get.export(title='world', export_format='Shapefile')\n",
        "\n",
        "#downloads the shapefile to a folder called world in project folder\n",
        "world_path = world_export.download('world')\n",
        "\n",
        "#create a zipfile object from downloaded zip above and extract the contents to local project folder\n",
        "with ZipFile(world_path, 'r') as zipObj:\n",
        "    zipObj.extractall()"
      ]
    },
    {
      "cell_type": "code",
      "execution_count": null,
      "metadata": {
        "colab": {
          "referenced_widgets": [
            "b417da43fc6440bf9b3c238dcb8632d2"
          ]
        },
        "id": "m87ljeUPOYZh",
        "outputId": "e9efc98b-3280-4175-91fe-33eef5efa60f"
      },
      "outputs": [
        {
          "data": {
            "application/vnd.jupyter.widget-view+json": {
              "model_id": "b417da43fc6440bf9b3c238dcb8632d2",
              "version_major": 2,
              "version_minor": 0
            },
            "text/plain": [
              "MapView(layout=Layout(height='400px', width='100%'))"
            ]
          },
          "metadata": {},
          "output_type": "display_data"
        },
        {
          "data": {
            "text/html": [
              "<div class=\"map-static-img-preview-32fedc80-3059-4ef6-b423-5b0bd54c0931\"><img src=\"\"></img></div>"
            ],
            "text/plain": [
              "<display.HTML object>"
            ]
          },
          "metadata": {},
          "output_type": "display_data"
        },
        {
          "data": {
            "text/html": [
              "<div class=\"map-html-embed-preview-32fedc80-3059-4ef6-b423-5b0bd54c0931\"></div>"
            ],
            "text/plain": [
              "<display.HTML object>"
            ]
          },
          "metadata": {},
          "output_type": "display_data"
        }
      ],
      "source": [
        "#lets take a look\n",
        "sdf = pd.DataFrame.spatial.from_featureclass('World_Countries_(Generalized).shp')\n",
        "m = sdf.spatial.plot()\n",
        "m"
      ]
    },
    {
      "cell_type": "code",
      "execution_count": null,
      "metadata": {
        "id": "A3SdZBSqOYZi",
        "scrolled": true
      },
      "outputs": [],
      "source": [
        "import geopandas as gpd"
      ]
    },
    {
      "cell_type": "code",
      "execution_count": null,
      "metadata": {
        "id": "wrzVVMUROYZi"
      },
      "outputs": [],
      "source": [
        "#change the name of the column that the sdf and the df_master will be merged on\n",
        "df_master.rename(columns={'name':'COUNTRY'}, inplace=True)\n",
        "\n",
        "#merge the sdf and the df_master and place into a geodata frame\n",
        "sgdf = gpd.read_file('World_Countries_(Gneralized).shp')\n",
        "gdf = gpd.GeoDataFrame(sgdf.merge(df_master, on='COUNTRY'))"
      ]
    },
    {
      "cell_type": "code",
      "execution_count": null,
      "metadata": {
        "id": "77z0xdNJOYZi",
        "outputId": "1396cc4b-4154-4a89-eeb4-2e383834ca57"
      },
      "outputs": [
        {
          "name": "stderr",
          "output_type": "stream",
          "text": [
            "__main__:1: UserWarning: Column names longer than 10 characters will be truncated when saved to ESRI Shapefile.\n"
          ]
        }
      ],
      "source": [
        "gdf.to_file(\"AllData.shp\")"
      ]
    },
    {
      "cell_type": "code",
      "execution_count": 1,
      "metadata": {
        "id": "AkCrW-pXOYZj"
      },
      "outputs": [],
      "source": [
        "gis.content.add(item_properties={'title': 'CropYields','type':'Shapefile', 'tags':['Food', 'Agriculture']},\n",
        "                data=\"AllData.shp\")"
      ]
    },
    {
      "cell_type": "markdown",
      "metadata": {
        "heading_collapsed": true,
        "id": "SXZoFjOUOYZk"
      },
      "source": [
        "## Random Forest Tests"
      ]
    },
    {
      "cell_type": "code",
      "execution_count": null,
      "metadata": {
        "hidden": true,
        "id": "wUFgqmTNOYZk"
      },
      "outputs": [],
      "source": [
        "from sklearn.model_selection import train_test_split\n",
        "from sklearn.ensemble import RandomForestRegressor\n",
        "from sklearn.metrics import r2_score"
      ]
    },
    {
      "cell_type": "code",
      "execution_count": null,
      "metadata": {
        "hidden": true,
        "id": "4bUI7RGfOYZl"
      },
      "outputs": [],
      "source": [
        "df_ml = df_master.drop(['Area', 'COUNTRY'], axis=1)"
      ]
    },
    {
      "cell_type": "code",
      "execution_count": null,
      "metadata": {
        "hidden": true,
        "id": "1MM-ZWTmOYZl"
      },
      "outputs": [],
      "source": [
        "#encode categorical variables\n",
        "df_ml = pd.get_dummies(df_ml, columns=['Item'], prefix = ['Item'])\n",
        "\n",
        "#remove all null values\n",
        "df_ml = df_ml.dropna()"
      ]
    },
    {
      "cell_type": "code",
      "execution_count": null,
      "metadata": {
        "hidden": true,
        "id": "QhQU_shROYZl"
      },
      "outputs": [],
      "source": [
        "#split the dataframe into two sections: the results and the indicators\n",
        "col_ind = list(df_ml.columns)\n",
        "col_ind.remove('yield(tonnes)')\n",
        "X = df_ml[col_ind]\n",
        "y = df_ml['yield(tonnes)']"
      ]
    },
    {
      "cell_type": "code",
      "execution_count": null,
      "metadata": {
        "hidden": true,
        "id": "wKD_1MBfOYZm"
      },
      "outputs": [],
      "source": [
        "#split the data into testing and training data\n",
        "X_train, X_test, y_train, y_test = train_test_split(X, y, test_size=0.3, random_state=42)\n",
        "\n",
        "#run the model\n",
        "rf = RandomForestRegressor(n_estimators=200, random_state=42, n_jobs=-1, verbose=1)"
      ]
    },
    {
      "cell_type": "code",
      "execution_count": null,
      "metadata": {
        "hidden": true,
        "id": "yiz9QIWtOYZm"
      },
      "outputs": [],
      "source": [
        "#fit the model based on training data\n",
        "rf.fit(X_train, y_train)"
      ]
    },
    {
      "cell_type": "code",
      "execution_count": null,
      "metadata": {
        "hidden": true,
        "id": "iAVJdeEGOYZm"
      },
      "outputs": [],
      "source": [
        "#actually predict outputs using the training data\n",
        "y_pred = rf.predict(X_train)"
      ]
    },
    {
      "cell_type": "code",
      "execution_count": null,
      "metadata": {
        "hidden": true,
        "id": "Gwme2QXrOYZn"
      },
      "outputs": [],
      "source": [
        "#return r^2 score\n",
        "r2_score(y_pred=y_pred,y_true=y_train)"
      ]
    },
    {
      "cell_type": "code",
      "execution_count": null,
      "metadata": {
        "hidden": true,
        "id": "xHun-BNKOYZn"
      },
      "outputs": [],
      "source": [
        "#obtain data for plot\n",
        "plot_list = df_master.columns\n",
        "features = X.columns\n",
        "importances = rf.feature_importances_"
      ]
    },
    {
      "cell_type": "code",
      "execution_count": null,
      "metadata": {
        "hidden": true,
        "id": "Qfu7Dw-SOYZn"
      },
      "outputs": [],
      "source": [
        "#sort features by importance and only return top 15\n",
        "feat_imp = pd.Series(importances, features).sort_values(ascending=False)\n",
        "feat_imp[:14]"
      ]
    },
    {
      "cell_type": "code",
      "execution_count": null,
      "metadata": {
        "hidden": true,
        "id": "4p3IKih8OYZn"
      },
      "outputs": [],
      "source": []
    },
    {
      "cell_type": "code",
      "execution_count": null,
      "metadata": {
        "hidden": true,
        "id": "0z0Vu4XTOYZo"
      },
      "outputs": [],
      "source": []
    }
  ],
  "metadata": {
    "colab": {
      "provenance": []
    },
    "kernelspec": {
      "display_name": "ArcGISPro",
      "language": "Python",
      "name": "python3"
    },
    "language_info": {
      "file_extension": ".py",
      "name": "python",
      "version": "3"
    }
  },
  "nbformat": 4,
  "nbformat_minor": 0
}
